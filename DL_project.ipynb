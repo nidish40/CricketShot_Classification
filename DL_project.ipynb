{
  "cells": [
    {
      "cell_type": "markdown",
      "metadata": {
        "id": "view-in-github",
        "colab_type": "text"
      },
      "source": [
        "<a href=\"https://colab.research.google.com/github/nidish40/CricketShot_Classification/blob/main/DL_project.ipynb\" target=\"_parent\"><img src=\"https://colab.research.google.com/assets/colab-badge.svg\" alt=\"Open In Colab\"/></a>"
      ]
    },
    {
      "cell_type": "code",
      "execution_count": null,
      "metadata": {
        "id": "GRvhPElVX2hU"
      },
      "outputs": [],
      "source": [
        "!pip install kaggle"
      ]
    },
    {
      "cell_type": "markdown",
      "metadata": {
        "id": "HyDI0lxfTCgX"
      },
      "source": [
        "> Cricket shot Classification using Vision transformers"
      ]
    },
    {
      "cell_type": "code",
      "source": [
        "import os\n",
        "import zipfile\n",
        "os.makedirs(\"/root/.kaggle\", exist_ok=True)"
      ],
      "metadata": {
        "id": "J63F-v-cWJfi"
      },
      "execution_count": null,
      "outputs": []
    },
    {
      "cell_type": "code",
      "execution_count": null,
      "metadata": {
        "id": "FAzd6tcmY6tT"
      },
      "outputs": [],
      "source": [
        "import shutil\n",
        "\n",
        "shutil.move(\"/content/kaggle.json\", \"/root/.kaggle/kaggle.json\")\n"
      ]
    },
    {
      "cell_type": "code",
      "execution_count": null,
      "metadata": {
        "id": "n9sZ6WZ2vbJt"
      },
      "outputs": [],
      "source": [
        "!chmod 600 /root/.kaggle/kaggle.json"
      ]
    },
    {
      "cell_type": "code",
      "execution_count": null,
      "metadata": {
        "id": "WlCaeBpIZKby"
      },
      "outputs": [],
      "source": [
        "!kaggle datasets download aneesh10/cricket-shot-dataset\n",
        "!unzip cricket-shot-dataset.zip -d ./dataset"
      ]
    },
    {
      "cell_type": "code",
      "execution_count": null,
      "metadata": {
        "id": "FGHk-HzaVmYt"
      },
      "outputs": [],
      "source": [
        "import tensorflow as tf\n",
        "from tensorflow import keras\n",
        "from tensorflow.keras import layers\n",
        "import numpy as np\n",
        "\n",
        "# Patch Embedding\n",
        "class PatchEmbedding(layers.Layer):\n",
        "    def __init__(self, patch_size, embed_dim):\n",
        "        super().__init__()\n",
        "        self.projection = layers.Conv2D(embed_dim, kernel_size=patch_size, strides=patch_size, padding=\"valid\")\n",
        "        self.flatten = layers.Reshape((-1, embed_dim))\n",
        "\n",
        "    def call(self, x):\n",
        "        x = self.projection(x)\n",
        "        return self.flatten(x)\n",
        "\n",
        "# Multi-Head Attention Block\n",
        "def transformer_block(embed_dim, num_heads, mlp_dim, block_name=None): #\n",
        "    inputs = layers.Input(shape=(None, embed_dim))\n",
        "\n",
        "    x = layers.LayerNormalization()(inputs)\n",
        "    x = layers.MultiHeadAttention(num_heads=num_heads, key_dim=embed_dim)(x, x)\n",
        "    x = layers.Add()([x, inputs])\n",
        "\n",
        "    y = layers.LayerNormalization()(x)\n",
        "    y = layers.Dense(mlp_dim, activation=\"gelu\")(y)\n",
        "    y = layers.Dense(embed_dim)(y)\n",
        "    out = layers.Add()([x, y])\n",
        "\n",
        "    return keras.Model(inputs, out, name=block_name)\n",
        "\n",
        "# Shot-ViT Model\n",
        "def build_shot_vit(image_size=128, patch_size=64, embed_dim=512, num_heads=8, mlp_dim=2048, num_layers=6, num_classes=4):\n",
        "    inputs = keras.Input(shape=(image_size, image_size, 3))\n",
        "\n",
        "    # Patch Embedding\n",
        "    patches = PatchEmbedding(patch_size, embed_dim)(inputs)\n",
        "\n",
        "    # Positional Encoding\n",
        "    num_patches = (image_size // patch_size) ** 2\n",
        "    pos_embedding = layers.Embedding(input_dim=num_patches, output_dim=embed_dim)(tf.range(num_patches))\n",
        "    x = patches + pos_embedding\n",
        "\n",
        "    # Transformer Blocks\n",
        "    for i in range(num_layers):\n",
        "        x = transformer_block(embed_dim, num_heads, mlp_dim, block_name=f\"TransformerBlock_{i}\")(x) # Pass unique block_name\n",
        "\n",
        "    # Classification Head\n",
        "    x = layers.GlobalAveragePooling1D()(x)\n",
        "    x = layers.Dropout(0.2)(x)\n",
        "    x = layers.Dense(128, activation=\"gelu\")(x)\n",
        "    x = layers.Dense(32, activation=\"gelu\")(x)\n",
        "    outputs = layers.Dense(num_classes, activation=\"softmax\")(x)\n",
        "\n",
        "    return keras.Model(inputs, outputs, name=\"ViT-Shot\")\n",
        "\n",
        "# Create the model\n",
        "shot_vit = build_shot_vit(embed_dim=512, mlp_dim=2048, num_layers=8) # Reduced model complexity\n",
        "shot_vit.summary()"
      ]
    },
    {
      "cell_type": "code",
      "source": [],
      "metadata": {
        "id": "Xxhsug04Q7Vi"
      },
      "execution_count": null,
      "outputs": []
    },
    {
      "cell_type": "code",
      "source": [
        "import os\n",
        "import tensorflow as tf\n",
        "\n",
        "# Define dataset path\n",
        "dataset_path = \"/content/dataset/data\"\n",
        "\n",
        "# Define parameters\n",
        "batch_size = 64\n",
        "img_size = (128, 128)\n",
        "seed = 123\n",
        "\n",
        "# Load training dataset (70%)\n",
        "train_ds = tf.keras.utils.image_dataset_from_directory(\n",
        "    dataset_path,\n",
        "    validation_split=0.3,  # Total 30% split to use later\n",
        "    subset=\"training\",\n",
        "    seed=seed,\n",
        "    image_size=img_size,\n",
        "    batch_size=batch_size,\n",
        "    label_mode=\"int\"\n",
        ")\n",
        "\n",
        "# Load validation+test dataset (30%)\n",
        "val_test_ds = tf.keras.utils.image_dataset_from_directory(\n",
        "    dataset_path,\n",
        "    validation_split=0.3,\n",
        "    subset=\"validation\",\n",
        "    seed=seed,\n",
        "    image_size=img_size,\n",
        "    batch_size=batch_size,\n",
        "    label_mode=\"int\"\n",
        ")\n",
        "\n",
        "# Now split val_test_ds into 50/50 -> 15% validation, 15% test\n",
        "val_batches = tf.data.experimental.cardinality(val_test_ds) // 2\n",
        "\n",
        "val_ds = val_test_ds.take(val_batches)\n",
        "test_ds = val_test_ds.skip(val_batches)\n",
        "\n",
        "# Preprocess (normalize) function\n",
        "def preprocess(image, label):\n",
        "    image = tf.cast(image, tf.float32) / 255.0\n",
        "    return image, label\n",
        "\n",
        "AUTOTUNE = tf.data.AUTOTUNE\n",
        "\n",
        "# Apply normalization and prefetch\n",
        "train_ds = train_ds.map(preprocess).cache().prefetch(AUTOTUNE)\n",
        "val_ds = val_ds.map(preprocess).cache().prefetch(AUTOTUNE)\n",
        "test_ds = test_ds.map(preprocess).cache().prefetch(AUTOTUNE)\n",
        "\n",
        "# Print size info\n",
        "print(f\"Train batches: {tf.data.experimental.cardinality(train_ds).numpy()}\")\n",
        "print(f\"Validation batches: {tf.data.experimental.cardinality(val_ds).numpy()}\")\n",
        "print(f\"Test batches: {tf.data.experimental.cardinality(test_ds).numpy()}\")\n",
        "class_names = sorted(os.listdir(dataset_path))\n",
        "print(\"Classes:\", class_names)"
      ],
      "metadata": {
        "id": "yKAsSMKo54ft"
      },
      "execution_count": null,
      "outputs": []
    },
    {
      "cell_type": "code",
      "execution_count": null,
      "metadata": {
        "id": "5j90My6JcYMO"
      },
      "outputs": [],
      "source": [
        "shot_vit.compile(\n",
        "    optimizer=tf.keras.optimizers.Adam(learning_rate=1e-4),\n",
        "    loss=\"sparse_categorical_crossentropy\",\n",
        "    metrics=[\"accuracy\"]\n",
        ")"
      ]
    },
    {
      "cell_type": "code",
      "execution_count": null,
      "metadata": {
        "id": "mboGF8sOdU6x"
      },
      "outputs": [],
      "source": [
        "epochs = 15  # Adjust as needed\n",
        "\n",
        "history = shot_vit.fit(\n",
        "    train_ds,\n",
        "    validation_data=val_ds,\n",
        "    epochs=epochs\n",
        ")"
      ]
    },
    {
      "cell_type": "code",
      "source": [
        "test_loss, test_acc = shot_vit.evaluate(train_ds)\n",
        "print(f\"Test Accuracy: {test_acc:.4f}, Test Loss: {test_loss:.4f}\")"
      ],
      "metadata": {
        "id": "aIlSCHbaNYIL"
      },
      "execution_count": null,
      "outputs": []
    },
    {
      "cell_type": "code",
      "source": [
        "import matplotlib.pyplot as plt\n",
        "\n",
        "def plot_training_history(history):\n",
        "    metrics = history.history.keys()\n",
        "    paired_metrics = {}\n",
        "\n",
        "    # Group training and validation metrics\n",
        "    for metric in metrics:\n",
        "        if metric.startswith(\"val_\"):\n",
        "            base_metric = metric[4:]\n",
        "            if base_metric in metrics:\n",
        "                paired_metrics[base_metric] = (base_metric, metric)\n",
        "        elif f\"val_{metric}\" not in metrics:\n",
        "            paired_metrics[metric] = (metric, None)\n",
        "\n",
        "    # Plot each metric with its validation counterpart\n",
        "    for metric, (train_metric, val_metric) in paired_metrics.items():\n",
        "        plt.figure(figsize=(8, 5))\n",
        "        plt.plot(history.history[train_metric], label=f\"Train {metric}\", marker='o')\n",
        "        if val_metric:\n",
        "            plt.plot(history.history[val_metric], label=f\"Validation {metric}\", marker='s')\n",
        "        plt.title(f'{metric.capitalize()} over Epochs')\n",
        "        plt.xlabel('Epochs')\n",
        "        plt.ylabel(metric.capitalize())\n",
        "        plt.legend()\n",
        "        plt.grid(True)\n",
        "        plt.tight_layout()\n",
        "        plt.show()\n",
        "\n",
        "# Call this after training\n",
        "plot_training_history(history)\n"
      ],
      "metadata": {
        "id": "BjvhlPaetuE0"
      },
      "execution_count": null,
      "outputs": []
    },
    {
      "cell_type": "code",
      "execution_count": null,
      "metadata": {
        "id": "LWGZwsscM5U4"
      },
      "outputs": [],
      "source": [
        "class CNNFeatureExtractor(layers.Layer):\n",
        "    def __init__(self, filters=64):\n",
        "        super().__init__()\n",
        "        self.conv1 = layers.Conv2D(filters, kernel_size=3, strides=1, padding=\"same\", activation=\"relu\")\n",
        "        self.conv2 = layers.Conv2D(filters * 2, kernel_size=3, strides=2, padding=\"same\", activation=\"relu\")\n",
        "        self.conv3 = layers.Conv2D(filters * 4, kernel_size=3, strides=2, padding=\"same\", activation=\"relu\")\n",
        "        self.flatten = layers.Flatten()\n",
        "\n",
        "    def call(self, x):\n",
        "        x = self.conv1(x)\n",
        "        x = self.conv2(x)\n",
        "        x = self.conv3(x)\n",
        "        return self.flatten(x)\n",
        "\n",
        "def build_cnn_vit(image_size=128, patch_size=64, embed_dim=512, num_heads=8, mlp_dim=2048, num_layers=6, num_classes=4):\n",
        "    inputs = keras.Input(shape=(image_size, image_size, 3))\n",
        "\n",
        "    # CNN Feature Extractor\n",
        "    cnn_features = CNNFeatureExtractor()(inputs)\n",
        "    x = layers.Dense(embed_dim, activation=\"relu\")(cnn_features)\n",
        "    x = layers.Reshape((1, embed_dim))(x)  # Create a single token for Transformer\n",
        "\n",
        "    # Transformer Blocks\n",
        "    for i in range(num_layers):\n",
        "        x = transformer_block(embed_dim, num_heads, mlp_dim)(x)\n",
        "\n",
        "    # Classification Head\n",
        "    x = layers.GlobalAveragePooling1D()(x)\n",
        "    x = layers.Dense(128, activation=\"gelu\")(x)\n",
        "    x = layers.Dense(32, activation=\"gelu\")(x)\n",
        "    outputs = layers.Dense(num_classes, activation=\"softmax\")(x)\n",
        "\n",
        "    return keras.Model(inputs, outputs, name=\"CNN-ViT\")\n",
        "\n",
        "cnn_vit = build_cnn_vit()\n",
        "cnn_vit.summary()\n"
      ]
    },
    {
      "cell_type": "code",
      "source": [
        "import matplotlib.pyplot as plt\n",
        "import numpy as np\n",
        "import tensorflow as tf\n",
        "\n",
        "def visualize_attention(model, image, layer_idx=0, image_size=128):\n",
        "    # Preprocess the image\n",
        "    image = tf.image.resize(image, (image_size, image_size))\n",
        "    image = np.expand_dims(image, axis=0)  # Add batch dimension\n",
        "\n",
        "    # Get the transformer block\n",
        "    transformer_block_layer = model.get_layer(name=\"TransformerBlock_1\")\n",
        "\n",
        "    # Pass the image through the model and get the attention scores\n",
        "    attention_map = None\n",
        "    with tf.GradientTape() as tape:\n",
        "        tape.watch(image)\n",
        "        logits = model(image)\n",
        "\n",
        "        # Capture the attention scores from the transformer block\n",
        "        attention_scores = transformer_block_layer.attention_scores  # Access from the transformer block\n",
        "        attention_map = attention_scores[layer_idx]  # Choose the layer index for visualization\n",
        "\n",
        "    # Select a specific attention head (e.g., first attention head)\n",
        "    attention_map = attention_map[0, :, 0]  # Assuming we want to see the first token attention\n",
        "\n",
        "    # Visualize the attention map\n",
        "    plt.figure(figsize=(8, 8))\n",
        "    plt.imshow(image[0])  # Original image\n",
        "    plt.imshow(attention_map, alpha=0.5, cmap='jet')  # Overlay attention map with transparency\n",
        "    plt.colorbar()\n",
        "    plt.title(f\"Attention Map for Layer {layer_idx}\")\n",
        "    plt.axis('off')\n",
        "    plt.show()\n"
      ],
      "metadata": {
        "id": "ObuTHfBnSXfr"
      },
      "execution_count": null,
      "outputs": []
    },
    {
      "cell_type": "code",
      "execution_count": null,
      "metadata": {
        "id": "8R9tMYGoOE6q"
      },
      "outputs": [],
      "source": [
        "# import os\n",
        "\n",
        "# # Define dataset path\n",
        "# dataset_path = \"/content/dataset/data\"  # Update if needed\n",
        "\n",
        "# # Define parameters\n",
        "# batch_size = 64\n",
        "# img_size = (128, 128)  # Image size for ViT model\n",
        "# seed = 123  # Set a seed for reproducibility\n",
        "\n",
        "# # Load dataset properly with batching\n",
        "# full_dataset = tf.keras.utils.image_dataset_from_directory(\n",
        "#     dataset_path,\n",
        "#     image_size=img_size,\n",
        "#     batch_size=batch_size,\n",
        "#     label_mode=\"int\",\n",
        "#     shuffle=True,\n",
        "#     seed=seed\n",
        "# )\n",
        "\n",
        "# # Get dataset size\n",
        "# dataset_size = tf.data.experimental.cardinality(full_dataset).numpy()\n",
        "# train_size = int(0.7 * dataset_size)  # 70% for training\n",
        "# val_size = int(0.15 * dataset_size)   # 15% for validation\n",
        "# test_size = dataset_size - train_size - val_size  # Remaining 15% for testing\n",
        "\n",
        "# # Split dataset correctly\n",
        "# train_ds = full_dataset.take(train_size)  # First 70%\n",
        "# remaining_ds = full_dataset.skip(train_size)  # Remaining 30%\n",
        "\n",
        "# val_ds = remaining_ds.take(val_size)  # Next 15% for validation\n",
        "# test_ds = remaining_ds.skip(val_size)  # Last 15% for testing\n",
        "\n",
        "# # Preprocess function (Normalization)\n",
        "# def preprocess(image, label):\n",
        "#     image = tf.cast(image, tf.float32) / 255.0  # Normalize to [0,1]\n",
        "#     return image, label\n",
        "\n",
        "# AUTOTUNE = tf.data.AUTOTUNE\n",
        "\n",
        "# # Optimize datasets with caching and prefetching\n",
        "# train_ds = train_ds.map(preprocess).cache().prefetch(AUTOTUNE)\n",
        "# val_ds = val_ds.map(preprocess).cache().prefetch(AUTOTUNE)\n",
        "# test_ds = test_ds.map(preprocess).cache().prefetch(AUTOTUNE)"
      ]
    },
    {
      "cell_type": "code",
      "execution_count": null,
      "metadata": {
        "id": "13Zqb0JHSLBT"
      },
      "outputs": [],
      "source": [
        "cnn_vit.compile(\n",
        "    optimizer=tf.keras.optimizers.Adam(learning_rate=1e-4),\n",
        "    loss=\"sparse_categorical_crossentropy\",\n",
        "    metrics=[\n",
        "        tf.keras.metrics.SparseCategoricalAccuracy(name=\"accuracy\"),\n",
        "        tf.keras.metrics.SparseTopKCategoricalAccuracy(k=3, name=\"top_3_accuracy\"),\n",
        "    ]\n",
        ")\n"
      ]
    },
    {
      "cell_type": "code",
      "execution_count": null,
      "metadata": {
        "id": "krnN6PwXPGKp"
      },
      "outputs": [],
      "source": [
        "# Train model\n",
        "history_cnn_vit = cnn_vit.fit(\n",
        "    train_ds,\n",
        "    validation_data=val_ds,\n",
        "    epochs=15 # Adjust epochs based on performance\n",
        ")"
      ]
    },
    {
      "cell_type": "code",
      "execution_count": null,
      "metadata": {
        "id": "46rn9gXhQaod"
      },
      "outputs": [],
      "source": [
        "test_loss, test_acc = cnn_vit.evaluate(test_ds)\n",
        "print(f\"Test Accuracy: {test_acc:.4f}, Test Loss: {test_loss:.4f}\")S\n"
      ]
    },
    {
      "cell_type": "code",
      "source": [
        "import matplotlib.pyplot as plt\n",
        "\n",
        "def plot_training_history(history):\n",
        "    metrics = history.history.keys()\n",
        "    paired_metrics = {}\n",
        "\n",
        "    # Group training and validation metrics\n",
        "    for metric in metrics:\n",
        "        if metric.startswith(\"val_\"):\n",
        "            base_metric = metric[4:]\n",
        "            if base_metric in metrics:\n",
        "                paired_metrics[base_metric] = (base_metric, metric)\n",
        "        elif f\"val_{metric}\" not in metrics:\n",
        "            paired_metrics[metric] = (metric, None)\n",
        "\n",
        "    # Plot each metric with its validation counterpart\n",
        "    for metric, (train_metric, val_metric) in paired_metrics.items():\n",
        "        plt.figure(figsize=(8, 5))\n",
        "        plt.plot(history.history[train_metric], label=f\"Train {metric}\", marker='o')\n",
        "        if val_metric:\n",
        "            plt.plot(history.history[val_metric], label=f\"Validation {metric}\", marker='s')\n",
        "        plt.title(f'{metric.capitalize()} over Epochs')\n",
        "        plt.xlabel('Epochs')\n",
        "        plt.ylabel(metric.capitalize())\n",
        "        plt.legend()\n",
        "        plt.grid(True)\n",
        "        plt.tight_layout()\n",
        "        plt.show()\n",
        "\n",
        "# Call this after training\n",
        "plot_training_history(history)\n"
      ],
      "metadata": {
        "id": "IEu4IfObDQm_"
      },
      "execution_count": null,
      "outputs": []
    },
    {
      "cell_type": "code",
      "execution_count": null,
      "metadata": {
        "id": "i2SRB4qDR6tt"
      },
      "outputs": [],
      "source": [
        "import matplotlib.pyplot as plt\n",
        "from tensorflow.keras.models import Model\n",
        "import numpy as np\n",
        "\n",
        "# Get one image from the dataset\n",
        "for image_batch, label_batch in train_ds.take(1):\n",
        "    sample_image = image_batch[0:1]  # shape (1, 128, 128, 3)\n",
        "    break\n",
        "\n",
        "# Function to visualize feature maps\n",
        "def plot_feature_maps(features, title, max_maps=20):\n",
        "    plt.figure(figsize=(15, 5))\n",
        "    for i in range(min(max_maps, features.shape[-1])):\n",
        "        plt.subplot(1, max_maps, i + 1)\n",
        "        plt.imshow(features[0, :, :, i], cmap='viridis')\n",
        "        plt.axis('off')\n",
        "    plt.suptitle(title)\n",
        "    plt.show()\n",
        "\n",
        "# Hook into each layer manually\n",
        "cnn_layer = cnn_vit.layers[1]  # CNNFeatureExtractor\n",
        "dense_proj = cnn_vit.layers[2]\n",
        "reshape = cnn_vit.layers[3]\n",
        "transformer_blocks = cnn_vit.layers[4:10]  # Assuming 6 transformer blocks\n",
        "gap = cnn_vit.layers[10:]\n",
        "current = sample_image\n",
        "\n",
        "# Step 1: CNN Layers\n",
        "print(\"Input to CNN:\", current.shape)\n",
        "cnn_model = Model(cnn_vit.input, cnn_layer.output)\n",
        "cnn_out = cnn_model.predict(sample_image)\n",
        "print(\"Output from CNN (flattened):\", cnn_out.shape)\n",
        "\n",
        "# Visualize intermediate CNN features (hook into each conv)\n",
        "conv1_out = cnn_layer.conv1(sample_image)\n",
        "plot_feature_maps(conv1_out, \"Conv1 Feature Maps\")\n",
        "\n",
        "conv2_out = cnn_layer.conv2(conv1_out)\n",
        "plot_feature_maps(conv2_out, \"Conv2 Feature Maps\")\n",
        "\n",
        "conv3_out = cnn_layer.conv3(conv2_out)\n",
        "plot_feature_maps(conv3_out, \"Conv3 Feature Maps\")\n",
        "\n",
        "# Step 2: Dense projection\n",
        "x = dense_proj(cnn_out)\n",
        "print(\"After Dense projection:\", x.shape)\n",
        "\n",
        "# Step 3: Reshape\n",
        "x = reshape(x)\n",
        "print(\"After Reshape to token:\", x.shape)\n",
        "\n",
        "# Step 4: Transformer blocks\n",
        "for i, block in enumerate(transformer_blocks):\n",
        "    x = block(x)\n",
        "    print(f\"After Transformer Block {i+1}:\", x.shape)\n",
        "\n",
        "# Step 5: Classification head\n",
        "for i, layer in enumerate(gap):\n",
        "    x = layer(x)\n",
        "    print(f\"After {layer.name}:\", x.shape)\n"
      ]
    },
    {
      "cell_type": "code",
      "source": [
        "import matplotlib.pyplot as plt\n",
        "\n",
        "def plot_all_metrics(history):\n",
        "    \"\"\"\n",
        "    Plots training and validation metrics from model.fit history.\n",
        "    Supports loss, accuracy, precision, recall, mse, mae, etc.\n",
        "    \"\"\"\n",
        "    history_dict = history.history\n",
        "    metrics = list(history_dict.keys())\n",
        "\n",
        "    # Group training and validation metrics\n",
        "    metric_pairs = {}\n",
        "    for metric in metrics:\n",
        "        print(metric)\n",
        "        if metric.startswith('val_'):\n",
        "            base = metric[4:]\n",
        "            if base in metrics:\n",
        "                metric_pairs[base] = (base, metric)\n",
        "        elif f\"val_{metric}\" not in metrics:\n",
        "            metric_pairs[metric] = (metric, None)\n",
        "\n",
        "    # Plot each metric and its validation counterpart\n",
        "    for metric, (train_metric, val_metric) in metric_pairs.items():\n",
        "        plt.figure(figsize=(8, 5))\n",
        "        plt.plot(history_dict[train_metric], label=f'Train {metric}', marker='o')\n",
        "        if val_metric:\n",
        "            plt.plot(history_dict[val_metric], label=f'Val {metric}', marker='s')\n",
        "        plt.title(f'{metric.upper()} over Epochs')\n",
        "        plt.xlabel('Epochs')\n",
        "        plt.ylabel(metric.upper())\n",
        "        plt.legend()\n",
        "        plt.grid(True)\n",
        "        plt.tight_layout()\n",
        "        plt.show()\n",
        "plot_all_metrics(history)"
      ],
      "metadata": {
        "id": "OKZ6mTMjEXPE"
      },
      "execution_count": null,
      "outputs": []
    },
    {
      "cell_type": "code",
      "source": [
        "import matplotlib.pyplot as plt\n",
        "import numpy as np\n",
        "import random\n",
        "\n",
        "def visualize_predictions(model, dataset, class_names, num_images=10):\n",
        "    # Get a batch of images and labels from the dataset\n",
        "    all_images = []\n",
        "    all_labels = []\n",
        "\n",
        "    for images, labels in dataset.unbatch().take(1000):  # Limit so we don't exhaust resources\n",
        "        all_images.append(images.numpy())\n",
        "        all_labels.append(labels.numpy())\n",
        "\n",
        "    # Randomly select num_images indices\n",
        "    indices = random.sample(range(len(all_images)), num_images)\n",
        "\n",
        "    plt.figure(figsize=(15, 8))\n",
        "    for i, idx in enumerate(indices):\n",
        "        img = all_images[idx]\n",
        "        label = all_labels[idx]\n",
        "\n",
        "        # Model expects batch input\n",
        "        pred_logits = model.predict(np.expand_dims(img, axis=0), verbose=0)\n",
        "        pred_class = np.argmax(pred_logits, axis=-1)[0]\n",
        "\n",
        "        plt.subplot(2, 5, i + 1)\n",
        "        plt.imshow(img)\n",
        "        plt.axis('off')\n",
        "        plt.title(f\"True: {class_names[label]}\\nPred: {class_names[pred_class]}\")\n",
        "\n",
        "    plt.tight_layout()\n",
        "    plt.show()\n",
        "visualize_predictions(cnn_vit, train_ds, class_names)\n",
        "\n"
      ],
      "metadata": {
        "id": "qe8v3vjIBZlG"
      },
      "execution_count": null,
      "outputs": []
    },
    {
      "cell_type": "code",
      "source": [],
      "metadata": {
        "id": "UBvGbqOhENc-"
      },
      "execution_count": null,
      "outputs": []
    }
  ],
  "metadata": {
    "accelerator": "GPU",
    "colab": {
      "gpuType": "T4",
      "provenance": [],
      "include_colab_link": true
    },
    "kernelspec": {
      "display_name": "Python 3",
      "name": "python3"
    },
    "language_info": {
      "name": "python"
    }
  },
  "nbformat": 4,
  "nbformat_minor": 0
}